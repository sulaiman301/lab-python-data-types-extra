{
 "cells": [
  {
   "cell_type": "markdown",
   "metadata": {},
   "source": [
    "# CFU | Data Types"
   ]
  },
  {
   "cell_type": "markdown",
   "metadata": {},
   "source": [
    "## Working with Data Types"
   ]
  },
  {
   "cell_type": "markdown",
   "metadata": {},
   "source": [
    "Objective: Practice working with different data types and their corresponding operations."
   ]
  },
  {
   "cell_type": "markdown",
   "metadata": {},
   "source": [
    "### Exercise 1: Calculate remaining salary"
   ]
  },
  {
   "cell_type": "markdown",
   "metadata": {},
   "source": [
    "In this exercise, prompt the user to enter their personal information such as name, age, address, salary, and expenses, and then perform some calculations to determine how much money they have left after expenses. \n",
    "\n",
    "Use data type casting to ensure that the age, salary, and expenses are stored as integers or floats, as appropriate, and round the remaining money to one decimal. \n",
    "\n",
    "Use a boolean variable to indicate whether the remaining salary is greater than or equal to 500. \n",
    "\n",
    "Finally, you will use string formatting to print a message to the screen in the following format: \n",
    "\"*name*, who is *age* years old, and lives in *address* has *remaining_salary* dollars left from her salary after expenses. It is *is_salary_good* that she has more than $500 left.\", using the mentioned variables.\n",
    "\n",
    "*Hint:* \n",
    "- *You can use the input() function to ask the user to enter their information. Beware that input() function returns a String.*\n",
    "- *You can round the remaining salary to one decimal using the round() function.*\n",
    "- *Use data type conversion functions. Recommended external resources: [Data type conversion](https://www.geeksforgeeks.org/type-conversion-in-python/)*"
   ]
  },
  {
   "cell_type": "code",
   "execution_count": 6,
   "metadata": {},
   "outputs": [
    {
     "name": "stdout",
     "output_type": "stream",
     "text": [
      "sulaiman, who is 29 years old, and lives in 1001 has 2106.0 dollars left from their salary after expenses. It is True that they have more than $500 left.\n"
     ]
    }
   ],
   "source": [
    "def get_valid_int(prompt):\n",
    "    while True:\n",
    "        try:\n",
    "            return int(input(prompt))\n",
    "        except ValueError:\n",
    "            print(\"Invalid input. Please enter a valid integer.\")\n",
    "\n",
    "def get_valid_float(prompt):\n",
    "    while True:\n",
    "        try:\n",
    "            return float(input(prompt))\n",
    "        except ValueError:\n",
    "            print(\"Invalid input. Please enter a valid number.\")\n",
    "\n",
    "# Prompt the user to enter their personal information\n",
    "name = input(\"Enter your name: \")\n",
    "age = get_valid_int(\"Enter your age: \")\n",
    "address = input(\"Enter your address: \")\n",
    "salary = get_valid_float(\"Enter your salary: \")\n",
    "expenses = get_valid_float(\"Enter your expenses: \")\n",
    "\n",
    "# Calculate the remaining salary after expenses\n",
    "remaining_salary = salary - expenses\n",
    "\n",
    "# Round the remaining salary to one decimal place\n",
    "remaining_salary = round(remaining_salary, 1)\n",
    "\n",
    "# Check if the remaining salary is greater than or equal to 500\n",
    "is_salary_good = remaining_salary >= 500\n",
    "\n",
    "# Format and print the message\n",
    "print(f\"{name}, who is {age} years old, and lives in {address} has {remaining_salary} dollars left from their salary after expenses. It is {is_salary_good} that they have more than $500 left.\")\n"
   ]
  },
  {
   "cell_type": "code",
   "execution_count": 7,
   "metadata": {},
   "outputs": [
    {
     "name": "stdout",
     "output_type": "stream",
     "text": [
      "jarieu, who is 27 years old, and lives in 2370 has -365.0 dollars left from their salary after expenses. It is False that they have more than $500 left.\n"
     ]
    }
   ],
   "source": [
    "# Prompt the user to enter their personal information\n",
    "name = input(\"Enter your name: \")\n",
    "age = int(input(\"Enter your age: \"))\n",
    "address = input(\"Enter your address: \")\n",
    "salary = float(input(\"Enter your salary: \"))\n",
    "expenses = float(input(\"Enter your expenses: \"))\n",
    "\n",
    "# Calculate the remaining salary after expenses\n",
    "remaining_salary = salary - expenses\n",
    "\n",
    "# Round the remaining salary to one decimal place\n",
    "remaining_salary = round(remaining_salary, 1)\n",
    "\n",
    "# Check if the remaining salary is greater than or equal to 500\n",
    "is_salary_good = remaining_salary >= 500\n",
    "\n",
    "# Format and print the message\n",
    "print(f\"{name}, who is {age} years old, and lives in {address} has {remaining_salary} dollars left from their salary after expenses. It is {is_salary_good} that they have more than $500 left.\")\n"
   ]
  },
  {
   "cell_type": "markdown",
   "metadata": {},
   "source": [
    "\n",
    "### Exercise 2: Text Cleaning and Concatenation"
   ]
  },
  {
   "cell_type": "markdown",
   "metadata": {},
   "source": [
    "Write code that takes text from the variable `poem`, removes the punctuation and leaves everything in lowercase. \n",
    "\n",
    "Concatenate the resulting string with the string \"python is awesome!\" and store the result in a new variable. \n",
    "\n",
    "Print the length of the new string.\n",
    "\n",
    "Split the string into a list of strings using the space delimiter, save it in a variable `poem_list` and print it. \n",
    "\n",
    "*Hint:*\n",
    "\n",
    "- *You can use the len() function to get the length of a string.*\n",
    "- *Search string methods to accomplish the other steps. Recommended External Resources: [Python String Methods](https://www.w3schools.com/python/python_ref_string.asp)*\n",
    "- *Use method chaining to simplify your code. If you are not sure what it is, read this tutorial before: https://pyneng.readthedocs.io/en/latest/book/04_data_structures/method_chaining.html*\n"
   ]
  },
  {
   "cell_type": "code",
   "execution_count": 8,
   "metadata": {},
   "outputs": [
    {
     "name": "stdout",
     "output_type": "stream",
     "text": [
      "Length of the new string: 195\n",
      "List of words: ['two', 'roads', 'diverged', 'in', 'a', 'yellow', 'wood', 'and', 'sorry', 'i', 'could', 'not', 'travel', 'both', 'and', 'be', 'one', 'traveler', 'long', 'i', 'stood', 'and', 'looked', 'down', 'one', 'as', 'far', 'as', 'i', 'could', 'to', 'where', 'it', 'bent', 'in', 'the', 'undergrowth', 'python', 'is', 'awesome!']\n"
     ]
    }
   ],
   "source": [
    "import string\n",
    "\n",
    "# Sample poem text\n",
    "poem = \"\"\"Two roads diverged in a yellow wood,\n",
    "And sorry I could not travel both\n",
    "And be one traveler, long I stood\n",
    "And looked down one as far as I could\n",
    "To where it bent in the undergrowth;\"\"\"\n",
    "\n",
    "# Remove punctuation, convert to lowercase, and concatenate with the string \"python is awesome!\"\n",
    "new_string = poem.translate(str.maketrans('', '', string.punctuation)).lower() + \" python is awesome!\"\n",
    "\n",
    "# Print the length of the new string\n",
    "print(\"Length of the new string:\", len(new_string))\n",
    "\n",
    "# Split the string into a list of words using the space delimiter and save it in poem_list\n",
    "poem_list = new_string.split()\n",
    "\n",
    "# Print the list of words\n",
    "print(\"List of words:\", poem_list)\n"
   ]
  },
  {
   "cell_type": "code",
   "execution_count": 9,
   "metadata": {},
   "outputs": [
    {
     "name": "stdout",
     "output_type": "stream",
     "text": [
      "Length of the new string: 259\n",
      "List of words: ['some', 'say', 'the', 'world', 'will', 'end', 'in', 'fire', 'some', 'say', 'in', 'ice', 'from', 'what', 'i’ve', 'tasted', 'of', 'desire', 'i', 'hold', 'with', 'those', 'who', 'favor', 'fire', 'but', 'if', 'it', 'had', 'to', 'perish', 'twice', 'i', 'think', 'i', 'know', 'enough', 'of', 'hate', 'to', 'say', 'that', 'for', 'destruction', 'ice', 'is', 'also', 'great', 'and', 'would', 'suffice', 'python', 'is', 'awesome!']\n"
     ]
    }
   ],
   "source": [
    "import string\n",
    "\n",
    "# Given poem text\n",
    "poem = \"\"\"Some say the world will end in fire,\n",
    "Some say in ice.\n",
    "From what I’ve tasted of desire\n",
    "I hold with those who favor fire.\n",
    "But if it had to perish twice,\n",
    "I think I know enough of hate\n",
    "To say that for destruction ice\n",
    "Is also great\n",
    "And would suffice.\"\"\"\n",
    "\n",
    "# Remove punctuation, convert to lowercase, and concatenate with \"python is awesome!\"\n",
    "new_string = poem.translate(str.maketrans('', '', string.punctuation)).lower() + \" python is awesome!\"\n",
    "\n",
    "# Print the length of the new string\n",
    "print(\"Length of the new string:\", len(new_string))\n",
    "\n",
    "# Split the string into a list of words using the space delimiter and save it in poem_list\n",
    "poem_list = new_string.split()\n",
    "\n",
    "# Print the list of words\n",
    "print(\"List of words:\", poem_list)\n"
   ]
  }
 ],
 "metadata": {
  "kernelspec": {
   "display_name": "Python 3 (ipykernel)",
   "language": "python",
   "name": "python3"
  },
  "language_info": {
   "codemirror_mode": {
    "name": "ipython",
    "version": 3
   },
   "file_extension": ".py",
   "mimetype": "text/x-python",
   "name": "python",
   "nbconvert_exporter": "python",
   "pygments_lexer": "ipython3",
   "version": "3.9.13"
  }
 },
 "nbformat": 4,
 "nbformat_minor": 4
}
